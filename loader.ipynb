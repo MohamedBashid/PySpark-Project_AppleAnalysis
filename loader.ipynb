{
 "cells": [
  {
   "cell_type": "code",
   "execution_count": 0,
   "metadata": {
    "application/vnd.databricks.v1+cell": {
     "cellMetadata": {
      "byteLimit": 2048000,
      "rowLimit": 10000
     },
     "inputWidgets": {},
     "nuid": "09de8520-3fda-4468-a0f4-b03401f6c81b",
     "showTitle": false,
     "tableResultSettingsMap": {},
     "title": ""
    }
   },
   "outputs": [],
   "source": [
    "%run \"./loader_factory\""
   ]
  },
  {
   "cell_type": "code",
   "execution_count": 0,
   "metadata": {
    "application/vnd.databricks.v1+cell": {
     "cellMetadata": {
      "byteLimit": 2048000,
      "rowLimit": 10000
     },
     "inputWidgets": {},
     "nuid": "3fca0579-9c33-4b79-bfcd-777fa3dabf04",
     "showTitle": false,
     "tableResultSettingsMap": {},
     "title": ""
    }
   },
   "outputs": [],
   "source": [
    "class AbstractLoader:\n",
    "    def __init__(self, transformedDF):\n",
    "        self.transformedDF = transformedDF\n",
    "\n",
    "    def sink(self):\n",
    "\n",
    "        pass\n",
    "\n",
    "class AirPodsAfterIphoneLoader(AbstractLoader):\n",
    "\n",
    "    def sink(self):\n",
    "        get_sink_source(\n",
    "            sink_type = \"dbfs\",\n",
    "            df = self.transformedDF, \n",
    "            path = \"dbfs:/FileStore/tables/Pyspark-project-AppleAnalysis/outputFiles/FirstWorkflow\", \n",
    "            method = \"overwrite\"\n",
    "        ).load_data_frame()\n",
    "\n",
    "class OnlyAirpodsAndIPhoneLoader(AbstractLoader):\n",
    "\n",
    "    def sink(self):\n",
    "        params = {\n",
    "            \"partitionByColumns\": [\"location\"]\n",
    "        }\n",
    "        get_sink_source(\n",
    "            sink_type = \"dbfs_with_partition\",\n",
    "            df = self.transformedDF, \n",
    "            path = \"dbfs:/FileStore/tables/Pyspark-project-AppleAnalysis/outputFiles/SecondWorkflow\", \n",
    "            method = \"overwrite\",\n",
    "            params = params\n",
    "        ).load_data_frame()\n",
    "\n",
    "        get_sink_source(\n",
    "            sink_type = \"delta\",\n",
    "            df = self.transformedDF, \n",
    "            path = \"default.onlyAirPodsAndIphone\", \n",
    "            method = \"overwrite\",\n",
    "        ).load_data_frame()  \n",
    "\n",
    "class boughtAfterInitialPurchaseLoader(AbstractLoader):\n",
    "\n",
    "    def sink(self):\n",
    "        get_sink_source(\n",
    "            sink_type = \"dbfs\",\n",
    "            df = self.transformedDF, \n",
    "            path = \"dbfs:/FileStore/tables/Pyspark-project-AppleAnalysis/outputFiles/ThirdWorkflow\", \n",
    "            method = \"overwrite\"\n",
    "        ).load_data_frame()         \n",
    "\n",
    "class customersFromOhioAndNevadaLoader(AbstractLoader):\n",
    "\n",
    "    def sink(self):\n",
    "        get_sink_source(\n",
    "            sink_type = \"dbfs\",\n",
    "            df = self.transformedDF, \n",
    "            path = \"dbfs:/FileStore/tables/Pyspark-project-AppleAnalysis/outputFiles/FourthWorkflow\", \n",
    "            method = \"overwrite\"\n",
    "        ).load_data_frame()   \n",
    "\n",
    "class moreThanOneCategoryLoader(AbstractLoader):\n",
    "\n",
    "    def sink(self):\n",
    "        get_sink_source(\n",
    "            sink_type = \"dbfs\",\n",
    "            df = self.transformedDF, \n",
    "            path = \"dbfs:/FileStore/tables/Pyspark-project-AppleAnalysis/outputFiles/FifthWorkflow\", \n",
    "            method = \"overwrite\"\n",
    "        ).load_data_frame()   \n"
   ]
  }
 ],
 "metadata": {
  "application/vnd.databricks.v1+notebook": {
   "computePreferences": null,
   "dashboards": [],
   "environmentMetadata": null,
   "language": "python",
   "notebookMetadata": {
    "pythonIndentUnit": 4
   },
   "notebookName": "loader",
   "widgets": {}
  }
 },
 "nbformat": 4,
 "nbformat_minor": 0
}
