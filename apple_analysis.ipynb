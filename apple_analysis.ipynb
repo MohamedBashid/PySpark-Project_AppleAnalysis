{
 "cells": [
  {
   "cell_type": "code",
   "execution_count": 0,
   "metadata": {
    "application/vnd.databricks.v1+cell": {
     "cellMetadata": {
      "byteLimit": 2048000,
      "rowLimit": 10000
     },
     "inputWidgets": {},
     "nuid": "e49867fb-81e8-4e90-bce7-738932675915",
     "showTitle": false,
     "tableResultSettingsMap": {},
     "title": ""
    }
   },
   "outputs": [],
   "source": [
    "%run \"/Users/i8ec057@sairamtap.edu.in/Pyspark-project-AppleAnalysis/Extract/extractor\"\n",
    "\n"
   ]
  },
  {
   "cell_type": "code",
   "execution_count": 0,
   "metadata": {
    "application/vnd.databricks.v1+cell": {
     "cellMetadata": {
      "byteLimit": 2048000,
      "rowLimit": 10000
     },
     "inputWidgets": {},
     "nuid": "0319f800-ebcd-4a20-a1b8-d315e85d0eb7",
     "showTitle": false,
     "tableResultSettingsMap": {},
     "title": ""
    }
   },
   "outputs": [],
   "source": [
    "%run \"/Users/i8ec057@sairamtap.edu.in/Pyspark-project-AppleAnalysis/Transformer/transform\"\n"
   ]
  },
  {
   "cell_type": "code",
   "execution_count": 0,
   "metadata": {
    "application/vnd.databricks.v1+cell": {
     "cellMetadata": {
      "byteLimit": 2048000,
      "rowLimit": 10000
     },
     "inputWidgets": {},
     "nuid": "3eeb7962-9076-4bd8-b693-3a2ab1fceacd",
     "showTitle": false,
     "tableResultSettingsMap": {},
     "title": ""
    }
   },
   "outputs": [],
   "source": [
    "%run \"/Users/i8ec057@sairamtap.edu.in/Pyspark-project-AppleAnalysis/Load/loader\""
   ]
  },
  {
   "cell_type": "code",
   "execution_count": 0,
   "metadata": {
    "application/vnd.databricks.v1+cell": {
     "cellMetadata": {
      "byteLimit": 2048000,
      "rowLimit": 10000
     },
     "inputWidgets": {},
     "nuid": "62e50294-e1dc-48b6-9045-93dfd15d9a1c",
     "showTitle": false,
     "tableResultSettingsMap": {},
     "title": ""
    }
   },
   "outputs": [],
   "source": [
    "class FirstWorkFlow:\n",
    "    \"\"\"\n",
    "    ETL pipeline to generate the data for all customers who have bought Airpods after buying iphone\n",
    "    \"\"\" \n",
    "    def __init__(self):\n",
    "        pass\n",
    "\n",
    "    def runner(self):\n",
    "\n",
    "        # Step 1: Extract all required data from different source\n",
    "        inputDFs = AirpodsAfterIphoneExtractor().extract()\n",
    "\n",
    "        # Step 2: Implement the Transformation logic\n",
    "        # Customers who have bought Airpods after buying the iPhone\n",
    "        firstTransformedDF = AirpodsAfterIphoneTransformer().transform(inputDFs)\n",
    "\n",
    "        # Step 3: Load all required data to differnt sink\n",
    "        AirPodsAfterIphoneLoader(firstTransformedDF).sink()\n",
    "        "
   ]
  },
  {
   "cell_type": "code",
   "execution_count": 0,
   "metadata": {
    "application/vnd.databricks.v1+cell": {
     "cellMetadata": {
      "byteLimit": 2048000,
      "rowLimit": 10000
     },
     "inputWidgets": {},
     "nuid": "12168e13-5541-4f09-9cb9-f446f2380c48",
     "showTitle": false,
     "tableResultSettingsMap": {},
     "title": ""
    }
   },
   "outputs": [],
   "source": [
    "class SecondWorkFlow:\n",
    "    \"\"\"\n",
    "    ETL pipeline to generate the data for all Customers who have bought only both Airpods and Airpods\n",
    "    \"\"\" \n",
    "    def __init__(self):\n",
    "        pass\n",
    "\n",
    "    def runner(self):\n",
    "\n",
    "        # Step 1: Extract all required data from different source\n",
    "        inputDFs = AirpodsAfterIphoneExtractor().extract()\n",
    "\n",
    "        # Step 2: Implement the Transformation logic\n",
    "        # Customers who have bought Airpods after buying the iPhone\n",
    "        onlyAirpodsAndIphoneDF = OnlyAirpodsAndIphone().transform(inputDFs)\n",
    "\n",
    "        # Step 3: Load all required data to differnt sink\n",
    "        OnlyAirpodsAndIPhoneLoader(onlyAirpodsAndIphoneDF).sink()"
   ]
  },
  {
   "cell_type": "code",
   "execution_count": 0,
   "metadata": {
    "application/vnd.databricks.v1+cell": {
     "cellMetadata": {
      "byteLimit": 2048000,
      "rowLimit": 10000
     },
     "inputWidgets": {},
     "nuid": "3d0432f4-e29a-45d6-a16e-64c2e1842ee6",
     "showTitle": false,
     "tableResultSettingsMap": {},
     "title": ""
    }
   },
   "outputs": [],
   "source": [
    "class ThirdWorkFlow:\n",
    "    \"\"\"\n",
    "    ETL pipeline to generate the List of all the products bought by customers after their initial purchase\n",
    "    \"\"\" \n",
    "    def __init__(self):\n",
    "        pass\n",
    "\n",
    "    def runner(self):\n",
    "\n",
    "        # Step 1: Extract all required data from different source\n",
    "        inputDFs = AirpodsAfterIphoneExtractor().extract()\n",
    "\n",
    "        # Step 2: Implement the Transformation logic\n",
    "        # Customers who have bought Airpods after buying the iPhone\n",
    "        boughtAfterInitialPurchaseDF = boughtAfterInitialPurchase().transform(inputDFs)\n",
    "\n",
    "        # Step 3: Load all required data to differnt sink\n",
    "        boughtAfterInitialPurchaseLoader(boughtAfterInitialPurchaseDF).sink()"
   ]
  },
  {
   "cell_type": "code",
   "execution_count": 0,
   "metadata": {
    "application/vnd.databricks.v1+cell": {
     "cellMetadata": {
      "byteLimit": 2048000,
      "rowLimit": 10000
     },
     "inputWidgets": {},
     "nuid": "5a05f43b-ffef-4f26-95c5-dc987b81c575",
     "showTitle": false,
     "tableResultSettingsMap": {},
     "title": ""
    }
   },
   "outputs": [],
   "source": [
    "class FourthWorkFlow:\n",
    "    \"\"\"\n",
    "    ETL pipeline to List all products bought by customers from Ohio and Nevada.\n",
    "    \"\"\" \n",
    "    def __init__(self):\n",
    "        pass\n",
    "\n",
    "    def runner(self):\n",
    "\n",
    "        # Step 1: Extract all required data from different source\n",
    "        inputDFs = customersFromOhioAndNevadaExtractor().extract()\n",
    "\n",
    "        # Step 2: Implement the Transformation logic\n",
    "        # top 3 selling products in each category by total revenue\n",
    "        customersFromOhioAndNevadaDF = customersFromOhioAndNevada().transform(inputDFs)\n",
    "\n",
    "        # Step 3: Load all required data to differnt sink\n",
    "        customersFromOhioAndNevadaLoader(customersFromOhioAndNevadaDF).sink()"
   ]
  },
  {
   "cell_type": "code",
   "execution_count": 0,
   "metadata": {
    "application/vnd.databricks.v1+cell": {
     "cellMetadata": {
      "byteLimit": 2048000,
      "rowLimit": 10000
     },
     "inputWidgets": {},
     "nuid": "b33666e1-348c-4264-8385-f76670fa3897",
     "showTitle": false,
     "tableResultSettingsMap": {},
     "title": ""
    }
   },
   "outputs": [],
   "source": [
    "class FifthWorkFlow:\n",
    "    \"\"\"\n",
    "    ETL pipeline to determine customers who have purchased products from more than one category\n",
    "    \"\"\" \n",
    "    def __init__(self):\n",
    "        pass\n",
    "\n",
    "    def runner(self):\n",
    "\n",
    "        # Step 1: Extract all required data from different source\n",
    "        inputDFs = moreThanOneCategoryExtractor().extract()\n",
    "\n",
    "        # Step 2: Implement the Transformation logic\n",
    "        # top 3 selling products in each category by total revenue\n",
    "        moreThanOneCategoryDF = moreThanOneCategory().transform(inputDFs)\n",
    "\n",
    "        # Step 3: Load all required data to differnt sink\n",
    "        moreThanOneCategoryLoader(moreThanOneCategoryDF).sink()"
   ]
  },
  {
   "cell_type": "code",
   "execution_count": 0,
   "metadata": {
    "application/vnd.databricks.v1+cell": {
     "cellMetadata": {
      "byteLimit": 2048000,
      "rowLimit": 10000
     },
     "inputWidgets": {},
     "nuid": "61ee7150-021b-426d-bbaf-b50a800fa3fe",
     "showTitle": false,
     "tableResultSettingsMap": {},
     "title": ""
    }
   },
   "outputs": [
    {
     "output_type": "stream",
     "name": "stdout",
     "output_type": "stream",
     "text": [
      "+-----------+\n|customer_id|\n+-----------+\n|        107|\n|        108|\n|        106|\n|        105|\n+-----------+\n\n"
     ]
    }
   ],
   "source": [
    "class WorkFlowRunner:\n",
    "\n",
    "    def __init__(self, name):\n",
    "        self.name = name\n",
    "\n",
    "    def runner(self):\n",
    "        if self.name == \"firstWorkFlow\":\n",
    "            return FirstWorkFlow().runner()\n",
    "        elif self.name == \"secondWorkFlow\":\n",
    "            return SecondWorkFlow().runner()\n",
    "        elif self.name == \"thirdWorkFlow\":\n",
    "            return ThirdWorkFlow().runner()\n",
    "        elif self.name == \"fourthWorkFlow\":\n",
    "            return FourthWorkFlow().runner()\n",
    "        elif self.name == \"fifthWorkFlow\":\n",
    "            return FifthWorkFlow().runner()\n",
    "        else:\n",
    "            raise ValueError(f\"Not Implemented for {self.name}\")\n",
    "\n",
    "name = \"fifthWorkFlow\" \n",
    "workFlowrunner = WorkFlowRunner(name).runner()"
   ]
  }
 ],
 "metadata": {
  "application/vnd.databricks.v1+notebook": {
   "computePreferences": null,
   "dashboards": [],
   "environmentMetadata": null,
   "language": "python",
   "notebookMetadata": {
    "pythonIndentUnit": 4
   },
   "notebookName": "apple_analysis",
   "widgets": {}
  }
 },
 "nbformat": 4,
 "nbformat_minor": 0
}
