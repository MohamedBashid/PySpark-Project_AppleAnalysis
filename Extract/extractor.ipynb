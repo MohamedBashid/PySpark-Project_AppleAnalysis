{
 "cells": [
  {
   "cell_type": "code",
   "execution_count": 0,
   "metadata": {
    "application/vnd.databricks.v1+cell": {
     "cellMetadata": {
      "byteLimit": 2048000,
      "rowLimit": 10000
     },
     "inputWidgets": {},
     "nuid": "c743f997-efe8-40d5-95d1-f719731f8a80",
     "showTitle": false,
     "tableResultSettingsMap": {},
     "title": ""
    }
   },
   "outputs": [],
   "source": [
    "%run \"./reader_factory\""
   ]
  },
  {
   "cell_type": "code",
   "execution_count": 0,
   "metadata": {
    "application/vnd.databricks.v1+cell": {
     "cellMetadata": {
      "byteLimit": 2048000,
      "rowLimit": 10000
     },
     "inputWidgets": {},
     "nuid": "346a7e68-22a6-4abd-b0d8-5b0fd4f6fbf1",
     "showTitle": false,
     "tableResultSettingsMap": {},
     "title": ""
    }
   },
   "outputs": [],
   "source": [
    "class Extractor:\n",
    "    \"\"\"\n",
    "    Abstract class \n",
    "    \"\"\"\n",
    "\n",
    "    def __init__(self):\n",
    "        pass\n",
    "    def extract(self):\n",
    "        pass\n",
    "\n",
    "class AirpodsAfterIphoneExtractor(Extractor):\n",
    "\n",
    "    def extract(self):\n",
    "        \"\"\"\n",
    "        Implement the steps for extracting or reading the data\n",
    "        \"\"\"\n",
    "        transcatioInputDF = get_data_source(\n",
    "            data_type = \"csv\",\n",
    "            file_path=\"dbfs:/FileStore/tables/Pyspark-project-AppleAnalysis/inputFiles/Transaction.csv\"\n",
    "        ).get_data_frame()\n",
    "\n",
    "        transcatioInputDF.orderBy(\"customer_id\",\"transaction_date\")\n",
    "\n",
    "        customerInputDF = get_data_source(\n",
    "            data_type = \"delta\",\n",
    "            file_path=\"default.customers_delta_table_persist\"\n",
    "        ).get_data_frame()\n",
    "\n",
    "        \n",
    "        inputDFs = {\n",
    "            \"transcatioInputDF\": transcatioInputDF,\n",
    "            \"customerInputDF\": customerInputDF\n",
    "        }\n",
    "\n",
    "        return inputDFs\n",
    "    \n",
    "    \n",
    "class customersFromOhioAndNevadaExtractor(Extractor):\n",
    "\n",
    "    def extract(self):\n",
    "        \"\"\"\n",
    "        Implement the steps for extracting or reading the data\n",
    "        \"\"\"\n",
    "        transcatioInputDF = get_data_source(\n",
    "            data_type = \"csv\",\n",
    "            file_path=\"dbfs:/FileStore/tables/Pyspark-project-AppleAnalysis/inputFiles/Transaction.csv\"\n",
    "        ).get_data_frame()\n",
    "\n",
    "        productInputDF = get_data_source(\n",
    "            data_type = \"csv\",\n",
    "            file_path=\"dbfs:/FileStore/tables/Pyspark-project-AppleAnalysis/inputFiles/Products.csv\"\n",
    "        ).get_data_frame()\n",
    "\n",
    "        customerInputDF = get_data_source(\n",
    "            data_type = \"delta\",\n",
    "            file_path=\"default.customers_delta_table_persist\"\n",
    "        ).get_data_frame()\n",
    "\n",
    "        \n",
    "        inputDFs = {\n",
    "            \"transcatioInputDF\": transcatioInputDF,\n",
    "            \"productInputDF\": productInputDF,\n",
    "            \"customerInputDF\": customerInputDF\n",
    "        }\n",
    "\n",
    "        return inputDFs\n",
    "\n",
    "\n",
    "class moreThanOneCategoryExtractor(Extractor):\n",
    "\n",
    "    def extract(self):\n",
    "        \"\"\"\n",
    "        Implement the steps for extracting or reading the data\n",
    "        \"\"\"\n",
    "        transcatioInputDF = get_data_source(\n",
    "            data_type = \"csv\",\n",
    "            file_path=\"dbfs:/FileStore/tables/Pyspark-project-AppleAnalysis/inputFiles/Transaction.csv\"\n",
    "        ).get_data_frame()\n",
    "\n",
    "        productInputDF = get_data_source(\n",
    "            data_type = \"csv\",\n",
    "            file_path=\"dbfs:/FileStore/tables/Pyspark-project-AppleAnalysis/inputFiles/Products.csv\"\n",
    "        ).get_data_frame()\n",
    "\n",
    "        \n",
    "        inputDFs = {\n",
    "            \"transcatioInputDF\": transcatioInputDF,\n",
    "            \"productInputDF\": productInputDF,\n",
    "        }\n",
    "\n",
    "        return inputDFs\n",
    "    "
   ]
  }
 ],
 "metadata": {
  "application/vnd.databricks.v1+notebook": {
   "computePreferences": null,
   "dashboards": [],
   "environmentMetadata": null,
   "language": "python",
   "notebookMetadata": {
    "pythonIndentUnit": 4
   },
   "notebookName": "extractor",
   "widgets": {}
  }
 },
 "nbformat": 4,
 "nbformat_minor": 0
}
